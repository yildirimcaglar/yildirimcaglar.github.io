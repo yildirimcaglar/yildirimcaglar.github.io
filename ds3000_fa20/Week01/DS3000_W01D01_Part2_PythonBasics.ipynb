{
 "cells": [
  {
   "cell_type": "markdown",
   "metadata": {
    "slideshow": {
     "slide_type": "slide"
    }
   },
   "source": [
    "<center> <img src=\"https://yildirimcaglar.github.io/ds3000/ds3000.png\"> </center>"
   ]
  },
  {
   "cell_type": "markdown",
   "metadata": {},
   "source": [
    "<center> <h2> Python Basics </h2></center>"
   ]
  },
  {
   "cell_type": "markdown",
   "metadata": {
    "slideshow": {
     "slide_type": "slide"
    }
   },
   "source": [
    "## Outline\n",
    "1. <a href='#1'>Python Variables </a>\n",
    "2. <a href='#2'>Arithmetic Operators</a>\n",
    "3. <a href='#3'>Logical Operators</a>\n",
    "4. <a href='#4'>Keywords</a>"
   ]
  },
  {
   "cell_type": "markdown",
   "metadata": {},
   "source": [
    "<a id=\"1\"></a>"
   ]
  },
  {
   "cell_type": "markdown",
   "metadata": {
    "slideshow": {
     "slide_type": "slide"
    }
   },
   "source": [
    "## **1. Python Variables** <br>\n",
    "* A variable name is an **identifier**. \n",
    "* May consist of letters, digits and underscores (`_`) but may NOT begin with a digit. \n",
    "* Python is _case sensitive_. "
   ]
  },
  {
   "cell_type": "code",
   "execution_count": null,
   "metadata": {
    "slideshow": {
     "slide_type": "fragment"
    }
   },
   "outputs": [],
   "source": [
    "#valid variable declarations:\n",
    "age = 115\n",
    "name = \"Dumbledore\"\n",
    "_house = \"Gryffindor\""
   ]
  },
  {
   "cell_type": "code",
   "execution_count": null,
   "metadata": {},
   "outputs": [],
   "source": [
    "type(name)"
   ]
  },
  {
   "cell_type": "code",
   "execution_count": null,
   "metadata": {
    "slideshow": {
     "slide_type": "fragment"
    }
   },
   "outputs": [],
   "source": [
    "#invalid variable declaration:\n",
    "1stname = 2"
   ]
  },
  {
   "cell_type": "markdown",
   "metadata": {
    "slideshow": {
     "slide_type": "slide"
    }
   },
   "source": [
    "### 1.1. Wait, no semicolons at the end?\n",
    "Shouldn't you end your statements with a semicolon so that the compiler will understand it is the end of the statement?"
   ]
  },
  {
   "cell_type": "markdown",
   "metadata": {
    "slideshow": {
     "slide_type": "fragment"
    }
   },
   "source": [
    "**No :)** <br>\n",
    "\n",
    "<center> <img src=\"res/wedont.gif\"> </center>"
   ]
  },
  {
   "cell_type": "markdown",
   "metadata": {
    "slideshow": {
     "slide_type": "slide"
    }
   },
   "source": [
    "### 1.2. Displaying Variables\n",
    "* You can use the print function to display the values of variables"
   ]
  },
  {
   "cell_type": "code",
   "execution_count": null,
   "metadata": {
    "slideshow": {
     "slide_type": "fragment"
    }
   },
   "outputs": [],
   "source": [
    "print(name)"
   ]
  },
  {
   "cell_type": "code",
   "execution_count": null,
   "metadata": {
    "slideshow": {
     "slide_type": "subslide"
    }
   },
   "outputs": [],
   "source": [
    "print(Name)"
   ]
  },
  {
   "cell_type": "markdown",
   "metadata": {
    "slideshow": {
     "slide_type": "fragment"
    }
   },
   "source": [
    "This raises a Name Error because the variable Name does not exist. \n",
    "Remember Python is case-sensitive, says Dumbledore."
   ]
  },
  {
   "cell_type": "markdown",
   "metadata": {},
   "source": [
    "<a id=\"2\"></a>"
   ]
  },
  {
   "cell_type": "markdown",
   "metadata": {
    "slideshow": {
     "slide_type": "slide"
    }
   },
   "source": [
    "## 2. Arithmetic Operators\n",
    "| Python operation | Arithmetic operator | Python expression\n",
    "| :-------- | :-------- | :-------- \n",
    "| Addition | `+`  | `f + 7` \n",
    "| Subtraction | `–` | `p - c` \n",
    "| Multiplication | `*` | `b * m` \n",
    "| Exponentiation | `**` |  `x ** y` \n",
    "| True division | `/` | `x / y` \n",
    "| Floor division | `//` | `x // y` \n",
    "| Remainder (modulo) | `%` | `r % s` \n",
    "\n",
    "* [All operators and their precedence](https://docs.python.org/3/reference/expressions.html#operator-precedence)"
   ]
  },
  {
   "cell_type": "markdown",
   "metadata": {
    "slideshow": {
     "slide_type": "subslide"
    }
   },
   "source": [
    "### 2.1. True Division (`/`) vs. Floor Division (`//`)\n",
    "* **True division (`/`)** divides a numerator by a denominator and yields a floating-point number.\n",
    "* **Floor division (`//`)** divides a numerator by a denominator, yielding the highest _integer_ that’s not greater than the result.\n",
    "* **Floor division (`//`)** truncates (discards) the fractional part. "
   ]
  },
  {
   "cell_type": "code",
   "execution_count": null,
   "metadata": {
    "slideshow": {
     "slide_type": "fragment"
    }
   },
   "outputs": [],
   "source": [
    "#true division:\n",
    "7 / 2"
   ]
  },
  {
   "cell_type": "code",
   "execution_count": null,
   "metadata": {
    "slideshow": {
     "slide_type": "fragment"
    }
   },
   "outputs": [],
   "source": [
    "#floor division\n",
    "7 // 2"
   ]
  },
  {
   "cell_type": "markdown",
   "metadata": {},
   "source": [
    "<a id=\"3\"></a>"
   ]
  },
  {
   "cell_type": "markdown",
   "metadata": {
    "slideshow": {
     "slide_type": "slide"
    }
   },
   "source": [
    "## 3. Logical Operators\n",
    "\n",
    "Algebraic operator | Python operator | Sample condition | Meaning \n",
    ":---- | :---- | :---- | :----\n",
    "&gt;  | `>` | `x > y` | `x` is greater than `y`\n",
    "&lt;  | `<` | `x < y` | `x` is less than `y`\n",
    "&ge; | `>=` | `x >= y` | `x` is greater than or equal to `y`\n",
    "&le; | `<=` | `x <= y` | `x` is less than or equal to `y`\n",
    "= | `==` | `x == y` | `x` is equal to `y`\n",
    "&ne; | `!=` | `x != y` | `x` is not equal to `y`\n",
    "\n",
    "* Operators `>`, `<`, `>=` and `<=` have the same precedence. \n",
    "* Operators `==` and `!=` have the same precedence, which is lower than `>`, `<`, `>=` and `<=`. "
   ]
  },
  {
   "cell_type": "markdown",
   "metadata": {
    "slideshow": {
     "slide_type": "subslide"
    }
   },
   "source": [
    "* It's a syntax error when any of the operators `==`, `!=`, `>=` and `<=` contains spaces between its pair of symbols."
   ]
  },
  {
   "cell_type": "code",
   "execution_count": null,
   "metadata": {
    "slideshow": {
     "slide_type": "slide"
    }
   },
   "outputs": [],
   "source": [
    "x = 5\n",
    "y = 7"
   ]
  },
  {
   "cell_type": "code",
   "execution_count": null,
   "metadata": {
    "slideshow": {
     "slide_type": "fragment"
    }
   },
   "outputs": [],
   "source": [
    "x < y"
   ]
  },
  {
   "cell_type": "code",
   "execution_count": null,
   "metadata": {
    "slideshow": {
     "slide_type": "fragment"
    }
   },
   "outputs": [],
   "source": [
    "x >= y"
   ]
  },
  {
   "cell_type": "markdown",
   "metadata": {
    "slideshow": {
     "slide_type": "fragment"
    }
   },
   "source": [
    "* Boolean expressions in Python return either `True` or `False`"
   ]
  },
  {
   "cell_type": "markdown",
   "metadata": {
    "slideshow": {
     "slide_type": "slide"
    }
   },
   "source": [
    "* It is possible to chain comparisons to check whether a value is in a range:"
   ]
  },
  {
   "cell_type": "code",
   "execution_count": null,
   "metadata": {
    "slideshow": {
     "slide_type": "fragment"
    }
   },
   "outputs": [],
   "source": [
    "1 <= x <= 9"
   ]
  },
  {
   "cell_type": "code",
   "execution_count": null,
   "metadata": {
    "slideshow": {
     "slide_type": "fragment"
    }
   },
   "outputs": [],
   "source": [
    "x = 10"
   ]
  },
  {
   "cell_type": "code",
   "execution_count": null,
   "metadata": {
    "slideshow": {
     "slide_type": "fragment"
    }
   },
   "outputs": [],
   "source": [
    "1 <= x <= 9"
   ]
  },
  {
   "cell_type": "markdown",
   "metadata": {},
   "source": [
    "<a id=\"4\"></a>"
   ]
  },
  {
   "cell_type": "markdown",
   "metadata": {
    "slideshow": {
     "slide_type": "slide"
    }
   },
   "source": [
    "## 4. Keywords\n",
    "* Notice that a few (shown in **bold**) start with an uppercase letter.\n",
    "\n",
    "| &nbsp; | &nbsp; | &nbsp; | &nbsp; | &nbsp; |\n",
    "| :------ | :------ | :------ | :------ | :------ | \n",
    "| `and` | `as` | `assert` | `async` | `await` |\n",
    "| `break` | `class` | `continue` | `def` | `del` |\n",
    "| `elif` | `else` | `except` | **`False`** | `finally` |\n",
    "| `for` | `from` | `global` | `if` | `import` \n",
    "| `in` | `is` | `lambda` | **`None`** | `nonlocal` |\n",
    "| `not` | `or` | `pass`| `raise` | `return` |\n",
    "| **`True`** | `try` | `while` | `with` | `yield` |"
   ]
  },
  {
   "cell_type": "code",
   "execution_count": null,
   "metadata": {
    "slideshow": {
     "slide_type": "fragment"
    }
   },
   "outputs": [],
   "source": [
    "while = 5"
   ]
  },
  {
   "cell_type": "code",
   "execution_count": null,
   "metadata": {},
   "outputs": [],
   "source": [
    "13.5 / 3"
   ]
  },
  {
   "cell_type": "code",
   "execution_count": null,
   "metadata": {},
   "outputs": [],
   "source": [
    "13.5 // 3"
   ]
  },
  {
   "cell_type": "code",
   "execution_count": null,
   "metadata": {},
   "outputs": [],
   "source": []
  }
 ],
 "metadata": {
  "celltoolbar": "Slideshow",
  "kernelspec": {
   "display_name": "Python 3",
   "language": "python",
   "name": "python3"
  },
  "language_info": {
   "codemirror_mode": {
    "name": "ipython",
    "version": 3
   },
   "file_extension": ".py",
   "mimetype": "text/x-python",
   "name": "python",
   "nbconvert_exporter": "python",
   "pygments_lexer": "ipython3",
   "version": "3.7.3"
  }
 },
 "nbformat": 4,
 "nbformat_minor": 2
}
