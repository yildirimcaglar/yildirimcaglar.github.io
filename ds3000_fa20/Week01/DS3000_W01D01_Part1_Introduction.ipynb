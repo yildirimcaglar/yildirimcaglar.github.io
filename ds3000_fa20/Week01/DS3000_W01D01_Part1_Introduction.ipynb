{
 "cells": [
  {
   "cell_type": "markdown",
   "metadata": {
    "slideshow": {
     "slide_type": "slide"
    }
   },
   "source": [
    "<center> <img src=\"https://yildirimcaglar.github.io/ds3000/ds3000.png\"> </center>"
   ]
  },
  {
   "cell_type": "markdown",
   "metadata": {},
   "source": [
    "<center><h2> Introduction to Python and Jupyter Notebook</h2></center>"
   ]
  },
  {
   "cell_type": "code",
   "execution_count": null,
   "metadata": {
    "slideshow": {
     "slide_type": "slide"
    }
   },
   "outputs": [],
   "source": [
    "# this is going to be the template we are going to use for lecture notes\n",
    "# this is how you add a comment to your Python code. \n",
    "# The pound symbol, \"#\", is used for single-line comments.\n",
    "\n"
   ]
  },
  {
   "cell_type": "markdown",
   "metadata": {
    "slideshow": {
     "slide_type": "slide"
    }
   },
   "source": [
    "###  **0. Jupyter Notebook** <br>\n",
    "Each of these lines where you can type something is called a **\"cell\"**. <br><br>\n",
    "\n",
    "The logic is as follows:<br>\n",
    "> You write your code in an <font color = blue>In []</font> cell<br>\n",
    "> The output of that code is displayed in an <font color = red>Out []</font> cell.<br><br>\n",
    "\n",
    "To execute your code in a cell. Use **Shift + Enter** (Windows) or **Shift + Return** (Mac)"
   ]
  },
  {
   "cell_type": "markdown",
   "metadata": {
    "slideshow": {
     "slide_type": "slide"
    }
   },
   "source": [
    "### **1. Jupyter Notebook is interactive:**\n",
    "Jupyter Notebook provides an interactive GUI to the IPython interpreter, so you get to execute your code immediately without compiling it first.\n",
    "\n",
    "Let's go ahead and display a number:"
   ]
  },
  {
   "cell_type": "code",
   "execution_count": null,
   "metadata": {
    "slideshow": {
     "slide_type": "fragment"
    }
   },
   "outputs": [],
   "source": [
    "5"
   ]
  },
  {
   "cell_type": "markdown",
   "metadata": {
    "slideshow": {
     "slide_type": "slide"
    }
   },
   "source": [
    "### **2. It is possible to use Jupyter Notebook as a calculator:**\n",
    "\n",
    "For instance let's add two numbers:"
   ]
  },
  {
   "cell_type": "code",
   "execution_count": null,
   "metadata": {
    "slideshow": {
     "slide_type": "fragment"
    }
   },
   "outputs": [],
   "source": [
    "11+6"
   ]
  },
  {
   "cell_type": "markdown",
   "metadata": {
    "slideshow": {
     "slide_type": "slide"
    }
   },
   "source": [
    "### **3. Outputting a string with <font color=green>print</font>** \n",
    "It wouldn't be programming if we didn't display \"Hello World!\" in our first program!\n",
    "\n",
    "Let's do that with a little change:"
   ]
  },
  {
   "cell_type": "code",
   "execution_count": null,
   "metadata": {
    "slideshow": {
     "slide_type": "fragment"
    }
   },
   "outputs": [],
   "source": [
    "print(\"Hello, Harry Potter!\")"
   ]
  },
  {
   "cell_type": "markdown",
   "metadata": {
    "slideshow": {
     "slide_type": "slide"
    }
   },
   "source": [
    "### **4. What to use for strings: Double quotes or single quotes?**\n",
    "Both double quotes \"\" and single '' quotes are acceptable. <br>\n",
    "You can use either, provided that the beginning and ending quotes match. <br>\n",
    "Choose one and use it consistently, says Dumbledore. He is/was a wise man.\n",
    "\n",
    "Thus, the following would give you the same output:"
   ]
  },
  {
   "cell_type": "code",
   "execution_count": null,
   "metadata": {
    "slideshow": {
     "slide_type": "fragment"
    }
   },
   "outputs": [],
   "source": [
    "print('Hello, Harry Potter.')"
   ]
  },
  {
   "cell_type": "markdown",
   "metadata": {
    "slideshow": {
     "slide_type": "slide"
    }
   },
   "source": [
    "### 5. What happens if you are inconsistent?\n",
    "Be my guest and run the following:"
   ]
  },
  {
   "cell_type": "code",
   "execution_count": null,
   "metadata": {
    "slideshow": {
     "slide_type": "fragment"
    }
   },
   "outputs": [],
   "source": [
    "print(\"Hello, Harry Potter.')"
   ]
  },
  {
   "cell_type": "markdown",
   "metadata": {
    "slideshow": {
     "slide_type": "fragment"
    }
   },
   "source": [
    "You get a **Syntax Error**. <br>\n",
    "This is the Pythonic way of getting mad. <br>\n",
    "Python didn't like your code because it had a syntactic error (i.e., beginning/ending quotes didn't match).\n"
   ]
  },
  {
   "cell_type": "markdown",
   "metadata": {
    "slideshow": {
     "slide_type": "slide"
    }
   },
   "source": [
    "### **6. Getting input from the user using <font color = green>input</font>:** \n",
    "It couldn't be any simpler than the following:"
   ]
  },
  {
   "cell_type": "code",
   "execution_count": null,
   "metadata": {
    "slideshow": {
     "slide_type": "fragment"
    }
   },
   "outputs": [],
   "source": [
    "#name is a variable tha holds the value provided by the user\n",
    "name = input(\"What is your name? \")"
   ]
  },
  {
   "cell_type": "code",
   "execution_count": null,
   "metadata": {
    "slideshow": {
     "slide_type": "subslide"
    }
   },
   "outputs": [],
   "source": [
    "#we can display the value of the variable name using the print function:\n",
    "print(name)"
   ]
  },
  {
   "cell_type": "code",
   "execution_count": null,
   "metadata": {},
   "outputs": [],
   "source": []
  }
 ],
 "metadata": {
  "celltoolbar": "Slideshow",
  "kernelspec": {
   "display_name": "Python 3",
   "language": "python",
   "name": "python3"
  },
  "language_info": {
   "codemirror_mode": {
    "name": "ipython",
    "version": 3
   },
   "file_extension": ".py",
   "mimetype": "text/x-python",
   "name": "python",
   "nbconvert_exporter": "python",
   "pygments_lexer": "ipython3",
   "version": "3.7.3"
  }
 },
 "nbformat": 4,
 "nbformat_minor": 2
}
